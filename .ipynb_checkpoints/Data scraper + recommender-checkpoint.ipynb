{
 "cells": [
  {
   "cell_type": "code",
   "execution_count": 1,
   "metadata": {
    "collapsed": true
   },
   "outputs": [],
   "source": [
    "import requests\n",
    "import urllib.request\n",
    "import time\n",
    "import string\n",
    "from bs4 import BeautifulSoup\n",
    "import pandas as pd\n",
    "import numpy as np\n",
    "import scipy\n",
    "import matplotlib.pyplot as plt\n",
    "from matplotlib import style\n",
    "import seaborn as sns\n",
    "%matplotlib inline  \n",
    "\n",
    "pd.set_option('display.max_rows', None)"
   ]
  },
  {
   "cell_type": "code",
   "execution_count": 2,
   "metadata": {
    "collapsed": true
   },
   "outputs": [],
   "source": [
    "# Tous les thés peuvent être trouvés sur ces 2 pages de produits (90 produits/page)\n",
    "url_page_1 = 'https://camellia-sinensis.com/fr/thes/?types=nature&formats=vrac&name=asc&page_size=90&page=1'\n",
    "url_page_2 = 'https://camellia-sinensis.com/fr/thes/?types=nature&formats=vrac&name=asc&page_size=90&page=2'"
   ]
  },
  {
   "cell_type": "code",
   "execution_count": 3,
   "metadata": {
    "collapsed": true
   },
   "outputs": [],
   "source": [
    "# On recupère les éléments html de la page grâce à Beautifulsoup\n",
    "response1 = requests.get(url_page_1)\n",
    "response2 = requests.get(url_page_2)\n",
    "\n",
    "soup1 = BeautifulSoup(response1.text, 'html.parser')\n",
    "soup2 = BeautifulSoup(response2.text, 'html.parser')"
   ]
  },
  {
   "cell_type": "code",
   "execution_count": 4,
   "metadata": {
    "collapsed": true
   },
   "outputs": [],
   "source": [
    "#On construit la liste d'adresses URL en scrapant chaque lien de produit sur les 2 pages\n",
    "list_url = []\n",
    "for a in soup1.find_all('a', class_= 'm-product-tile__link m-product-tile__link--image'):\n",
    "    list_url.append(a['href'])\n",
    "for a in soup2.find_all('a', class_= 'm-product-tile__link m-product-tile__link--image'):\n",
    "    list_url.append(a['href'])"
   ]
  },
  {
   "cell_type": "code",
   "execution_count": 5,
   "metadata": {},
   "outputs": [
    {
     "data": {
      "text/plain": [
       "145"
      ]
     },
     "execution_count": 5,
     "metadata": {},
     "output_type": "execute_result"
    }
   ],
   "source": [
    "len(list_url)"
   ]
  },
  {
   "cell_type": "code",
   "execution_count": 6,
   "metadata": {},
   "outputs": [
    {
     "name": "stdout",
     "output_type": "stream",
     "text": [
      "145\n"
     ]
    }
   ],
   "source": [
    "liste = []\n",
    "i=0\n",
    "while i < len(list_url):\n",
    "    liste.append(list_url[i])\n",
    "    i+=1\n",
    "\n",
    "longueur = len(liste)\n",
    "print(longueur)"
   ]
  },
  {
   "cell_type": "code",
   "execution_count": 7,
   "metadata": {
    "collapsed": true
   },
   "outputs": [],
   "source": [
    "#Cette fonction va nous servir à \"lire\" chaque page produit pour récupérer les infos voulues\n",
    "def getAndParseURL(url):\n",
    "    result = requests.get(url)\n",
    "    soup = BeautifulSoup(result.text, 'html.parser')\n",
    "    return(soup)"
   ]
  },
  {
   "cell_type": "code",
   "execution_count": 8,
   "metadata": {},
   "outputs": [
    {
     "name": "stdout",
     "output_type": "stream",
     "text": [
      "[5, 6, 7, 12, 17, 26, 27, 55, 56, 57, 58, 60, 61, 62, 63, 64, 67, 78, 79, 80, 82, 105, 121, 137, 138, 139, 143]\n",
      "145\n"
     ]
    }
   ],
   "source": [
    "#On souhaite garder uniquement le thé en vrac dans notre liste. Pour cela, on récupère les indices de la liste contenant le mo boîte ou sac\n",
    "\n",
    "k = 0\n",
    "index = []\n",
    "while k < len(liste):\n",
    "    if 'boite' in liste[k]:\n",
    "        index.append(k)\n",
    "    if 'sac' in liste[k]:\n",
    "        index.append(k)\n",
    "    k+=1\n",
    "print(index)\n",
    "print(longueur)\n",
    "        "
   ]
  },
  {
   "cell_type": "code",
   "execution_count": 9,
   "metadata": {
    "scrolled": true
   },
   "outputs": [
    {
     "name": "stdout",
     "output_type": "stream",
     "text": [
      "1\n",
      "143\n",
      "2\n",
      "139\n",
      "3\n",
      "138\n",
      "4\n",
      "137\n",
      "5\n",
      "121\n",
      "6\n",
      "105\n",
      "7\n",
      "82\n",
      "8\n",
      "80\n",
      "9\n",
      "79\n",
      "10\n",
      "78\n",
      "11\n",
      "67\n",
      "12\n",
      "64\n",
      "13\n",
      "63\n",
      "14\n",
      "62\n",
      "15\n",
      "61\n",
      "16\n",
      "60\n",
      "17\n",
      "58\n",
      "18\n",
      "57\n",
      "19\n",
      "56\n",
      "20\n",
      "55\n",
      "21\n",
      "27\n",
      "22\n",
      "26\n",
      "23\n",
      "17\n",
      "24\n",
      "12\n",
      "25\n",
      "7\n",
      "26\n",
      "6\n",
      "27\n",
      "5\n"
     ]
    }
   ],
   "source": [
    "# Une fois les indices connus, on supprime ces éléments de notre liste d'adresses en commençant par les indices les plus hauts.\n",
    "# Ceci afin de ne pas décaler nos éléments.\n",
    "\n",
    "l = 1\n",
    "while l <len(index)+1:\n",
    "    ind = index[-l]\n",
    "    print(l)\n",
    "    print(ind)\n",
    "    del(liste[ind])\n",
    "    l+=1"
   ]
  },
  {
   "cell_type": "code",
   "execution_count": 10,
   "metadata": {
    "collapsed": true
   },
   "outputs": [],
   "source": [
    "#Cette fonction récupère les infos du profil aromatique et garde uniquement les 6 caractéristiques voulues.\n",
    "def profil(resultat):\n",
    "    aromas = []\n",
    "    aroma_str = str(resultat)\n",
    "\n",
    "    aroma_list = aroma_str.splitlines()\n",
    "#    print(len(aroma_list))\n",
    "#    print(aroma_list)\n",
    "    del aroma_list[0], aroma_list[-1]\n",
    "\n",
    "    aromas = aroma_list\n",
    "\n",
    "    j=0\n",
    "    while j < 6:\n",
    "#        print(aromas[j])\n",
    "        aromas[j] = aromas[j][-9]\n",
    "        j+=1\n",
    "#    print(len(aroma_list))\n",
    "    return aromas\n"
   ]
  },
  {
   "cell_type": "code",
   "execution_count": null,
   "metadata": {
    "collapsed": true
   },
   "outputs": [],
   "source": [
    "# Informations générales\n",
    "nom = []\n",
    "variete = []\n",
    "pays = []\n",
    "temperature = []\n",
    "\n",
    "# Profil d'arômes\n",
    "\n",
    "floral = []\n",
    "fruite = []\n",
    "boise = []\n",
    "terreux = []\n",
    "epice = []\n",
    "vegetal = []\n",
    "\n",
    "# Liste vide pour comparer\n",
    "vide = []"
   ]
  },
  {
   "cell_type": "code",
   "execution_count": null,
   "metadata": {},
   "outputs": [
    {
     "name": "stdout",
     "output_type": "stream",
     "text": [
      "Ali Shan 1999 (Cuisson charbon) Thé wulong Taiwan \n",
      "                                                                    95\n",
      "                                                             0 0 3 1 1 0\n",
      "Anxi Tie Guan Yin Thé wulong Chine \n",
      "                                                                    95\n",
      "                                                             3 0 1 0 0 2\n",
      "Assam Banaspaty biologique & équitable Thé noir Inde \n",
      "                                                                    95\n",
      "                                                             0 1 2 0 0 0\n",
      "Bai Hao Thé wulong Taiwan \n",
      "                                                                    90\n",
      "                                                             1 1 3 0 1 0\n",
      "Bai Hao 2008 Thé wulong Taiwan \n",
      "                                                                    95\n",
      "                                                             0 2 2 0 1 0\n",
      "Bai Hao Jingmai biologique Thé wulong Chine \n",
      "                                                                    95\n",
      "                                                             0 3 2 0 0 0\n",
      "Bai Hao Yin Zhen Thé blanc Chine \n",
      "                                                                    75\n",
      "                                                             1 0 1 0 0 1\n",
      "Bai Mu Dan Wang Thé blanc Chine \n",
      "                                                                    75\n",
      "                                                             1 0 1 0 0 2\n",
      "Bancha Shizuoka Thé vert Japon \n",
      "                                                                    85\n",
      "                                                             0 0 1 0 0 3\n",
      "Ceylan New Vithanakande Thé noir Sri Lanka \n",
      "                                                                    95\n",
      "                                                             0 1 3 0 0 0\n",
      "Da Hong Pao 1994 Thé wulong Chine \n",
      "                                                                    95\n",
      "                                                             0 1 3 0 0 0\n",
      "Da Hong Pao M. Wu Thé wulong Chine \n",
      "                                                                    95\n",
      "                                                             0 1 2 0 1 0\n",
      "Darjeeling 1st flush Jungpana biologique Thé noir Inde \n",
      "                                                                    95\n",
      "                                                             0 1 2 0 1 1\n",
      "Darjeeling 1st flush Puttabong biologique Thé noir Inde \n",
      "                                                                    95\n",
      "                                                             2 1 0 0 0 1\n",
      "Darjeeling 1st flush Singell biologique & équitable Thé noir Inde \n",
      "                                                                    95\n",
      "                                                             2 1 1 0 0 1\n",
      "Darjeeling 1st flush Sungma biologique Thé noir Inde \n",
      "                                                                    95\n",
      "                                                             2 3 0 1 0 0\n",
      "Darjeeling 1st flush Tukdah biologique Thé noir Inde \n",
      "                                                                    95\n",
      "                                                             2 3 0 1 0 0\n",
      "Darjeeling 2nd flush Jungpana WM biologique Thé noir Inde \n",
      "                                                                    95\n",
      "                                                             0 2 2 0 1 0\n",
      "Darjeeling 2nd flush Singbulli biologique Thé noir Inde \n",
      "                                                                    95\n",
      "                                                             1 2 2 0 0 0\n",
      "Darjeeling Avongrove biologique Thé blanc Inde \n",
      "                                                                    80\n",
      "                                                             1 1 2 0 0 1\n",
      "Dejiang Long Zhu Thé vert Chine \n",
      "                                                                    85\n",
      "                                                             2 1 0 0 0 3\n",
      "Dong Ding M. Chang Thé wulong Taiwan \n",
      "                                                                    95\n",
      "                                                             2 1 0 0 0 2\n",
      "Dong Ding M. Nen Yu (cuit) Thé wulong Taiwan \n",
      "                                                                    95\n",
      "                                                             0 0 2 0 1 1\n",
      "Dong Ding Mme Lin (cuisson au charbon) Thé wulong Taiwan \n",
      "                                                                    95\n",
      "                                                             0 0 3 0 2 0\n",
      "Du Yun Hong Cha Thé noir Chine \n",
      "                                                                    95\n",
      "                                                             0 2 2 0 0 0\n",
      "Du Yun Mao Jian Thé vert Chine \n",
      "                                                                    85\n",
      "                                                             1 2 1 0 0 2\n",
      "Feng Huang Hong Cha Thé noir Chine \n",
      "                                                                    95\n",
      "                                                             1 2 2 0 0 1\n",
      "Gaba Cha Thé wulong Taiwan \n",
      "                                                                    95\n",
      "                                                             1 2 2 0 1 0\n",
      "Genmaicha avec Matcha & Sencha biologique Thé vert Japon \n",
      "                                                                    80\n",
      "                                                             0 0 2 0 0 3\n",
      "Genmaicha biologique Thé vert Japon \n",
      "                                                                    90\n",
      "                                                             0 0 1 0 0 2\n",
      "Gunpowder biologique Thé vert Chine \n",
      "                                                                    85\n",
      "                                                             0 0 1 1 0 3\n",
      "Gyokuro Okabe Thé vert Japon \n",
      "                                                                    70\n",
      "                                                             1 0 0 0 0 3\n",
      "Gyokuro Shizuoka biologique Thé vert Japon \n",
      "                                                                    75\n",
      "                                                             1 0 0 0 0 3\n",
      "Gyokuro Shuin Thé vert Japon \n",
      "                                                                    70\n",
      "                                                             0 2 0 0 0 3\n",
      "Gyokuro Tamahomare Thé vert Japon \n",
      "                                                                    65\n",
      "                                                             0 2 0 0 0 3\n",
      "Hojicha Isagawa biologique Thé vert Japon \n",
      "                                                                    90\n",
      "                                                             0 0 3 0 0 1\n",
      "Hong Xiang Luo Thé noir Chine \n",
      "                                                                    90\n",
      "                                                             0 1 3 0 0 0\n",
      "Huiming biologique Thé vert Chine \n",
      "                                                                    85\n",
      "                                                             1 0 0 0 0 2\n",
      "Huiming Hong Cha biologique Thé noir Chine \n",
      "                                                                    90\n",
      "                                                             2 0 3 1 0 0\n",
      "Huo Shan Huang Ya Thé vert Chine \n",
      "                                                                    85\n",
      "                                                             1 1 0 0 0 2\n",
      "Java Purbasari Thé blanc Indonésie \n",
      "                                                                    75\n",
      "                                                             2 1 1 0 0 1\n",
      "Jin Die biologique Thé noir Chine \n",
      "                                                                    90\n",
      "                                                             1 1 2 0 0 0\n",
      "Jin Hou biologique Thé noir Chine \n",
      "                                                                    90\n",
      "                                                             0 2 2 0 0 0\n",
      "Jingning Yin Zhen biologique Thé blanc Chine \n",
      "                                                                    75\n",
      "                                                             2 1 0 0 0 3\n",
      "Kabusecha Takamado Thé vert Japon \n",
      "                                                                    75\n",
      "                                                             0 1 0 0 0 2\n"
     ]
    },
    {
     "name": "stdout",
     "output_type": "stream",
     "text": [
      "Kamairicha biologique Thé vert Japon \n",
      "                                                                    80\n",
      "                                                             1 0 1 0 0 3\n",
      "Kenya Kangaita Thé noir Kenya \n",
      "                                                                    95\n",
      "                                                             1 1 2 0 0 0\n",
      "Kukicha biologique Thé vert Japon \n",
      "                                                                    80\n",
      "                                                             0 1 2 0 0 2\n",
      "La Cumbre Bitaco biologique Thé noir Colombie \n",
      "                                                                    95\n",
      "                                                             0 1 3 0 1 0\n",
      "Laos Pu Er Sheng 2018 Phong Sali Thé pu er et vieilli Laos \n",
      "                                                                    95\n",
      "                                                             1 2 1 0 0 2\n",
      "Lapsang Souchong biologique Thé noir Chine \n",
      "                                                                    95\n",
      "                                                             0 0 3 1 0 0\n",
      "Lingtou Yuan Wei Dancong Thé wulong Chine \n",
      "                                                                    95\n",
      "                                                             1 2 1 0 0 1\n",
      "Liu Bao Shi Shan Gu Shu 2016 (théiers de 100 ans) Thé pu er et vieilli Chine \n",
      "                                                                    95\n",
      "                                                             0 2 1 1 0 0\n",
      "Liu Bao Ye Sheng Gu Shu 2002 Thé pu er et vieilli Chine \n",
      "                                                                    95\n",
      "                                                             0 0 1 3 0 1\n"
     ]
    }
   ],
   "source": [
    "# En passant par toutes les adresses URL, on récupère les informations de chaque thé\n",
    "\n",
    "i = 0\n",
    "aRemplir = 'A remplir'\n",
    "\n",
    "for url in liste:\n",
    "    soup = getAndParseURL(url)\n",
    "    \n",
    "    # Noms du thé\n",
    "    nom.append(soup.find('h1', class_= 'product-details__name').string)\n",
    "    \n",
    "    #Pays et type de thé\n",
    "    \n",
    "    # Récupère le pays et la variété (\"couleur\") du thé si disponible.\n",
    "    genre = soup.find_all('span', class_= 'colored-label')\n",
    "    if len(genre) < 2:\n",
    "        variete.append(aRemplir)\n",
    "        pays.append(aRemplir)\n",
    "        print('OOO Ajouter manuellement les infos de ce thé OOO')\n",
    "    else:\n",
    "        variete.append(genre[0].string)\n",
    "        pays.append(genre[1].string)\n",
    "    #Récupère la température d'infusion\n",
    "    prep = soup.find_all('span', class_= 'product-prep__content-row-value')\n",
    "    if len(prep)>0:\n",
    "        temperature.append(prep[1].string)\n",
    "    elif len(prep)==0:\n",
    "            temperature.append(aRemplir)\n",
    "    # Récupère le profil aromatique du thé\n",
    "    aroms = soup.find_all('div', class_= 'product-attributes__aroma-wrapper')\n",
    "    if aroms != vide:\n",
    "        aroma = profil(aroms)\n",
    "        floral.append(aroma[0])\n",
    "        fruite.append(aroma[1])\n",
    "        boise.append(aroma[2])\n",
    "        terreux.append(aroma[3])\n",
    "        epice.append(aroma[4])\n",
    "        vegetal.append(aroma[5])\n",
    "    else:\n",
    "        floral.append(aRemplir)\n",
    "        fruite.append(aRemplir)\n",
    "        boise.append(aRemplir)\n",
    "        terreux.append(aRemplir)\n",
    "        epice.append(aRemplir)\n",
    "        vegetal.append(aRemplir)        \n",
    "    print(nom[i], variete[i], pays[i], temperature[i], floral[i], fruite[i], boise[i], terreux[i], epice[i], vegetal[i])\n",
    "    i+=1\n",
    "    # Ce délai permet de ne pas surcharger le serveur et de ne pas être bloqué.\n",
    "    time.sleep(1)"
   ]
  },
  {
   "cell_type": "code",
   "execution_count": null,
   "metadata": {},
   "outputs": [],
   "source": [
    "#Vérification de la longueur de chaque liste\n",
    "print(len(nom))\n",
    "print(len(variete))\n",
    "print(len(pays))\n",
    "print(len(temperature))\n",
    "print(len(floral))\n",
    "print(len(fruite))\n",
    "print(len(boise))\n",
    "print(len(terreux))\n",
    "print(len(epice))\n",
    "print(len(vegetal))\n",
    "print(len(liste))"
   ]
  },
  {
   "cell_type": "code",
   "execution_count": null,
   "metadata": {
    "collapsed": true
   },
   "outputs": [],
   "source": [
    "#Crée le dataframe pandas avec les listes\n",
    "df = pd.DataFrame({'nom' : nom, 'variete' : variete, 'pays' : pays, 'temperature' : temperature, 'floral' : floral, 'fruite':fruite, 'boise':boise, 'terreux':terreux, 'epice':epice, 'vegetal':vegetal, 'url':liste})\n"
   ]
  },
  {
   "cell_type": "code",
   "execution_count": null,
   "metadata": {},
   "outputs": [],
   "source": [
    "\n",
    "cols = list(df.columns.values)\n",
    "print(cols)"
   ]
  },
  {
   "cell_type": "code",
   "execution_count": null,
   "metadata": {
    "collapsed": true
   },
   "outputs": [],
   "source": [
    "#On retire les espaces superflus de la valeur \"temperature\"\n",
    "df['temperature']= df['temperature'].str.strip()"
   ]
  },
  {
   "cell_type": "code",
   "execution_count": null,
   "metadata": {
    "collapsed": true
   },
   "outputs": [],
   "source": [
    "# On sauve le dataframe dans un fichier csv\n",
    "export_csv = df.to_csv(r'df.csv', index=None, header=True)"
   ]
  },
  {
   "cell_type": "code",
   "execution_count": null,
   "metadata": {
    "collapsed": true
   },
   "outputs": [],
   "source": [
    "# Pour réouvrir le fichier csv dans un dataframe\n",
    "#df =  pd.read_csv('scraped_data.csv', encoding='latin-1')\n"
   ]
  },
  {
   "cell_type": "code",
   "execution_count": null,
   "metadata": {},
   "outputs": [],
   "source": [
    "# Il faut maintenant vérifier que les données soient complètes\n",
    "# Si non, remplir les valeurs manquantes\n",
    "np.where(df['variete']=='A remplir')"
   ]
  },
  {
   "cell_type": "code",
   "execution_count": null,
   "metadata": {},
   "outputs": [],
   "source": [
    "# On cherche les thés dont le profil d'arôme n'est pas connu\n",
    "arome_vide = np.where(df['floral']=='A remplir')\n",
    "arome_vide[0][1]"
   ]
  },
  {
   "cell_type": "code",
   "execution_count": null,
   "metadata": {},
   "outputs": [],
   "source": [
    "df.loc[arome_vide[0][0]]['url']"
   ]
  },
  {
   "cell_type": "code",
   "execution_count": null,
   "metadata": {
    "collapsed": true
   },
   "outputs": [],
   "source": [
    "#En comparant la description du matcha sora avec les trois autres matcha, j'ai décidé du profil d'arome suivant : 0 0 0 0 0 3\n",
    "#La description ne parle que du côté végétal contrairement aux autres thés.\n",
    "df.loc[arome_vide[0][0]]['floral']=0\n",
    "df.loc[arome_vide[0][0]]['fruite']=0\n",
    "df.loc[arome_vide[0][0]]['boise']=0\n",
    "df.loc[arome_vide[0][0]]['terreux']=0\n",
    "df.loc[arome_vide[0][0]]['epice']=0\n",
    "df.loc[arome_vide[0][0]]['vegetal']=3"
   ]
  },
  {
   "cell_type": "code",
   "execution_count": null,
   "metadata": {},
   "outputs": [],
   "source": [
    "df.loc[arome_vide[0][1]]['url']"
   ]
  },
  {
   "cell_type": "code",
   "execution_count": null,
   "metadata": {
    "collapsed": true
   },
   "outputs": [],
   "source": [
    "#Pour le pu er yongde da shan, vieux théiers, j'ai décidé de ne pas le garder dans la liste. Beaucoups de pu er sont déjà présents\n",
    "#et je ne m'y connais pas assez dans ce type de thé pour extrapoler les profils des autres pu ers.\n",
    "df = df.drop([arome_vide[0][1]], axis=0)"
   ]
  },
  {
   "cell_type": "code",
   "execution_count": null,
   "metadata": {},
   "outputs": [],
   "source": [
    "np.where(df['floral']=='A remplir')"
   ]
  },
  {
   "cell_type": "code",
   "execution_count": null,
   "metadata": {
    "collapsed": true
   },
   "outputs": [],
   "source": [
    "\n"
   ]
  },
  {
   "cell_type": "code",
   "execution_count": null,
   "metadata": {
    "collapsed": true
   },
   "outputs": [],
   "source": [
    "temp_vide = df[df['temperature']=='A remplir'].index.tolist()"
   ]
  },
  {
   "cell_type": "code",
   "execution_count": null,
   "metadata": {},
   "outputs": [],
   "source": [
    "temp_vide[0]"
   ]
  },
  {
   "cell_type": "code",
   "execution_count": null,
   "metadata": {},
   "outputs": [],
   "source": [
    "df.at[temp_vide[2],'temperature']"
   ]
  },
  {
   "cell_type": "code",
   "execution_count": null,
   "metadata": {
    "collapsed": true
   },
   "outputs": [],
   "source": [
    "#Tous les thés Pu Er semblent être infusés à 95 degrés C.\n",
    "df.at[temp_vide[0],'temperature'] = 95\n",
    "df.at[temp_vide[1],'temperature'] = 95\n",
    "df.at[temp_vide[2],'temperature'] = 95"
   ]
  },
  {
   "cell_type": "code",
   "execution_count": null,
   "metadata": {},
   "outputs": [],
   "source": [
    "#On veut maintenant changer le type de nos variables \n",
    "df.dtypes"
   ]
  },
  {
   "cell_type": "code",
   "execution_count": null,
   "metadata": {
    "collapsed": true
   },
   "outputs": [],
   "source": [
    "#La température et les arômes sont des integer\n",
    "df.temperature = df.temperature.astype(np.int64)\n",
    "df.floral = df.floral.apply(np.int64)\n",
    "df.fruite = df.fruite.apply(np.int64)\n",
    "df.boise = df.boise.apply(np.int64)\n",
    "df.terreux = df.terreux.apply(np.int64)\n",
    "df.epice = df.epice.apply(np.int64)\n",
    "df.vegetal = df.vegetal.apply(np.int64)\n"
   ]
  },
  {
   "cell_type": "code",
   "execution_count": null,
   "metadata": {
    "collapsed": true
   },
   "outputs": [],
   "source": [
    "# On exporte le dataframe nettoyé\n",
    "export_csv = df.to_csv(r'cleaned_data.csv', index=None, header=True)"
   ]
  },
  {
   "cell_type": "code",
   "execution_count": null,
   "metadata": {
    "collapsed": true
   },
   "outputs": [],
   "source": [
    "#On importe les données dans un nouveau dataframe pour l'analyse\n",
    "data =  pd.read_csv('cleaned_data.csv', encoding = 'utf-8')"
   ]
  },
  {
   "cell_type": "code",
   "execution_count": null,
   "metadata": {
    "collapsed": true
   },
   "outputs": [],
   "source": [
    "sns.set(rc={'figure.figsize':(11.7,8.27)})"
   ]
  },
  {
   "cell_type": "code",
   "execution_count": null,
   "metadata": {
    "collapsed": true
   },
   "outputs": [],
   "source": [
    "#Importation des algorithmes dont nous aurons besoin pour classifier les thés\n",
    "from sklearn.cluster import KMeans\n",
    "from sklearn.cluster import SpectralClustering"
   ]
  },
  {
   "cell_type": "code",
   "execution_count": null,
   "metadata": {
    "collapsed": true
   },
   "outputs": [],
   "source": [
    "#Nous allons grouper les différents thés par rapport à leur profil d'arôme\n",
    "pro = data[['floral', 'fruite', 'boise', 'terreux', 'epice', 'vegetal']]"
   ]
  },
  {
   "cell_type": "code",
   "execution_count": null,
   "metadata": {},
   "outputs": [],
   "source": [
    "#En regardant les données, on peut savoir en combien de clusters l'ensemble se divise le mieux.\n",
    "#Pour cela, on utilise la méthode du coude (elbow method) ou le nombre optimal de clusters se situe à l'endroit ou l'inertie \n",
    "# selon le nombre de groupe forme un coude.\n",
    "wcss = []\n",
    "\n",
    "for i in range(1,21):\n",
    "    kmeans = KMeans( n_clusters=i, init='k-means++', max_iter=300, n_init=10, random_state=0)\n",
    "    kmeans.fit(pro)\n",
    "    wcss.append(kmeans.inertia_)\n",
    "plt.plot(range(1, 21), wcss)\n",
    "plt.title('Elbow Method')\n",
    "plt.xlabel('Number of clusters')\n",
    "plt.ylabel('WCSS')\n",
    "plt.show()"
   ]
  },
  {
   "cell_type": "code",
   "execution_count": null,
   "metadata": {
    "collapsed": true
   },
   "outputs": [],
   "source": [
    "#5 clusters\n",
    "\n",
    "kmeans = KMeans(n_clusters=5, init='k-means++', max_iter=300, n_init=10, random_state=0)\n",
    "pred_y = kmeans.fit_predict(pro)\n",
    "\n",
    "#6 clusters\n",
    "kmeans6 = KMeans(n_clusters=6, init='k-means++', max_iter=300, n_init=10, random_state=0)\n",
    "pred_y6 = kmeans6.fit_predict(pro)\n",
    "\n",
    "#Spectral clustering\n",
    "spectre = SpectralClustering(n_clusters=5, n_init=10)\n",
    "pred_y_spectr = spectre.fit_predict(pro)"
   ]
  },
  {
   "cell_type": "code",
   "execution_count": null,
   "metadata": {
    "collapsed": true
   },
   "outputs": [],
   "source": [
    "# On rajoute a nos données les groupements faits\n",
    "data['cluster'] = pred_y \n",
    "data['cluster6'] = pred_y6 \n",
    "data['spectral'] = pred_y_spectr"
   ]
  },
  {
   "cell_type": "code",
   "execution_count": null,
   "metadata": {
    "scrolled": true
   },
   "outputs": [],
   "source": [
    "data"
   ]
  },
  {
   "cell_type": "code",
   "execution_count": null,
   "metadata": {},
   "outputs": [],
   "source": [
    "#On classe les thés par appartenance à un cluster. On remarque déjà quelques caractéristiques en lisant le tableau\n",
    "#Les Puer sont presque tous groupés dans le même cluster et les thés verts japonais dans un autre.\n",
    "\n",
    "varitest = data[['nom','variete','pays', 'cluster','cluster6','spectral', 'url','floral', 'fruite', 'boise', 'terreux', 'epice', 'vegetal']]\n",
    "display(varitest.sort_values('cluster'))"
   ]
  },
  {
   "cell_type": "code",
   "execution_count": null,
   "metadata": {
    "collapsed": true
   },
   "outputs": [],
   "source": [
    "# Les couleurs choisies pour les thés sont celles du site internet.\n",
    "color = [\"#63CABA\", \"#886479\", \"#A5BACA\", \"#ABC37D\", \"#005970\", \"#D6223D\"]"
   ]
  },
  {
   "cell_type": "code",
   "execution_count": null,
   "metadata": {
    "scrolled": false
   },
   "outputs": [],
   "source": [
    "#On trace le nombre de thés de chaque variété pour chaque cluster\n",
    "ax = sns.countplot(x=\"cluster\", hue='variete', data=varitest, palette = color)"
   ]
  },
  {
   "cell_type": "code",
   "execution_count": null,
   "metadata": {
    "collapsed": true
   },
   "outputs": [],
   "source": [
    "#On voit bien que les clusters 0 et 2 (peuvent changer lorsque l'on relance le code) sont composés uniquement d'un seul type de thé (puer et thé vert)\n",
    "#Les thés blancs sont surtout regroupés dans le cluster 3 et les wulong dans le 1 mais c'est moins flagrant."
   ]
  },
  {
   "cell_type": "code",
   "execution_count": null,
   "metadata": {},
   "outputs": [],
   "source": [
    "#Afin de voir s'il existe une explication pour les autres clusters, j'ai décidé d'analyser l'intensité des arômes présents dans un cluster.\n",
    "#Pour cela, on somme la valeur de chaque arôme pour un cluster donné et on divise par le nombre de thés présents dans le cluster.\n",
    "\n",
    "#Intensité des arômes pour chaque cluster\n",
    "floral0 = varitest.query(\"cluster == 0\")['floral'].sum()\n",
    "fruite0 = varitest.query(\"cluster == 0\")['fruite'].sum()\n",
    "boise0 = varitest.query(\"cluster == 0\")['boise'].sum()\n",
    "terreux0 = varitest.query(\"cluster == 0\")['terreux'].sum()\n",
    "epice0 = varitest.query(\"cluster == 0\")['epice'].sum()\n",
    "vegetal0 = varitest.query(\"cluster == 0\")['vegetal'].sum()\n",
    "\n",
    "n_cluster0 = len(varitest[varitest['cluster']==1])\n",
    "\n",
    "print(n_cluster0)\n",
    "\n"
   ]
  },
  {
   "cell_type": "code",
   "execution_count": null,
   "metadata": {
    "collapsed": true
   },
   "outputs": [],
   "source": [
    "#Afin de voir s'il existe une explication pour les autres clusters, j'ai décidé d'analyser l'intensité des arômes présents dans un cluster.\n",
    "#Pour cela, on somme la valeur de chaque arôme pour un cluster donné et on divise par le nombre de thés présents dans le cluster.\n",
    "\n",
    "#Initialisation des listes\n",
    "arom_flora =  []\n",
    "arom_fruit =  []\n",
    "arom_bois =  []\n",
    "arom_terre =  []\n",
    "arom_epice =  []\n",
    "arom_vege =  []\n",
    "\n",
    "#Pour chaque cluster, on fais la moyenne des valeurs d'arômes des thés.\n",
    "i = 0\n",
    "while i<5:\n",
    "    arom_flora.append(varitest[varitest['cluster']==i]['floral'].sum()/len(varitest[varitest['cluster']==i]))\n",
    "    arom_fruit.append(varitest[varitest['cluster']==i]['fruite'].sum()/len(varitest[varitest['cluster']==i]))\n",
    "    arom_bois.append(varitest[varitest['cluster']==i]['boise'].sum()/len(varitest[varitest['cluster']==i]))\n",
    "    arom_terre.append(varitest[varitest['cluster']==i]['terreux'].sum()/len(varitest[varitest['cluster']==i]))\n",
    "    arom_epice.append(varitest[varitest['cluster']==i]['epice'].sum()/len(varitest[varitest['cluster']==i]))\n",
    "    arom_vege.append(varitest[varitest['cluster']==i]['vegetal'].sum()/len(varitest[varitest['cluster']==i]))\n",
    "    i+=1\n",
    "\n"
   ]
  },
  {
   "cell_type": "code",
   "execution_count": null,
   "metadata": {
    "collapsed": true
   },
   "outputs": [],
   "source": [
    "arom_cluster = [1,2,3,4,5]\n",
    "clusters = [0,1,2,3,4]\n",
    "i=0\n",
    "while i<5:\n",
    "    arom_cluster[i] = [arom_flora[i], arom_fruit[i], arom_bois[i],arom_terre[i], arom_epice[i], arom_vege[i]]\n",
    "#    arom_cluster.append(arom_flora[i], arom_fruit[i])\n",
    "    i+=1\n"
   ]
  },
  {
   "cell_type": "code",
   "execution_count": null,
   "metadata": {
    "collapsed": true
   },
   "outputs": [],
   "source": [
    "dicts = {}\n",
    "keys = range(5)\n",
    "for i in keys:\n",
    "    dicts[i] = arom_cluster[i]"
   ]
  },
  {
   "cell_type": "code",
   "execution_count": null,
   "metadata": {
    "collapsed": true
   },
   "outputs": [],
   "source": [
    "aromas = pd.DataFrame(dicts)"
   ]
  },
  {
   "cell_type": "code",
   "execution_count": null,
   "metadata": {},
   "outputs": [],
   "source": [
    "aromasT=aromas.transpose()\n",
    "aromasT.columns = ['floral','fruite','boise','terreux','epice','vegetal']\n",
    "aromasT"
   ]
  },
  {
   "cell_type": "code",
   "execution_count": null,
   "metadata": {},
   "outputs": [],
   "source": [
    "aromasT.plot(kind='bar')"
   ]
  },
  {
   "cell_type": "code",
   "execution_count": null,
   "metadata": {
    "collapsed": true
   },
   "outputs": [],
   "source": [
    "alldistances = kmeans.fit_transform(pro)"
   ]
  },
  {
   "cell_type": "code",
   "execution_count": null,
   "metadata": {},
   "outputs": [],
   "source": [
    "cluster_distance = []\n",
    "i=0\n",
    "while i < len(alldistances):\n",
    "    cluster_distance.append(min(alldistances[i]))\n",
    "    i+=1\n",
    "print(cluster_distance)"
   ]
  },
  {
   "cell_type": "code",
   "execution_count": null,
   "metadata": {},
   "outputs": [],
   "source": [
    "min(alldistances[1])"
   ]
  },
  {
   "cell_type": "code",
   "execution_count": null,
   "metadata": {
    "collapsed": true
   },
   "outputs": [],
   "source": [
    "data['distances']= cluster_distance"
   ]
  },
  {
   "cell_type": "code",
   "execution_count": null,
   "metadata": {},
   "outputs": [],
   "source": [
    "data"
   ]
  },
  {
   "cell_type": "code",
   "execution_count": null,
   "metadata": {
    "collapsed": true
   },
   "outputs": [],
   "source": [
    "input_the = 'Darjeeling Avongrove biologique'"
   ]
  },
  {
   "cell_type": "code",
   "execution_count": null,
   "metadata": {
    "collapsed": true
   },
   "outputs": [],
   "source": [
    "#dSquared = scipy.spatial.distance.cdist(data.iloc[:,4:10], temp_df.iloc[:,4:10], metric='euclidean')"
   ]
  },
  {
   "cell_type": "code",
   "execution_count": null,
   "metadata": {
    "collapsed": true
   },
   "outputs": [],
   "source": [
    "#list_dist = dSquared.tolist()\n",
    "#sorted(list_dist)"
   ]
  },
  {
   "cell_type": "code",
   "execution_count": null,
   "metadata": {
    "collapsed": true
   },
   "outputs": [],
   "source": [
    "#data.iloc[:,4:10]\n",
    "#temp_df.iloc[:,4:10]"
   ]
  },
  {
   "cell_type": "code",
   "execution_count": null,
   "metadata": {
    "collapsed": true
   },
   "outputs": [],
   "source": [
    "#data.loc[data['nom']==input_the]\n",
    "#cluster_the = data.loc[data['cluster']==]\n",
    "#temp_df = data.loc[data['nom']==input_the]\n",
    "#cluster_the = temp_df.cluster.values[0]\n",
    "#new_df = data.loc[data['cluster']==cluster_the].copy()\n",
    "#new_df\n",
    "#distance_sameC = scipy.spatial.distance.cdist(new_df.iloc[:,4:10], temp_df.iloc[:,4:10], metric='euclidean')\n",
    "#dist_clust = distance_sameC.tolist()\n",
    "#new_df['distance'] = dist_clust\n",
    "#new_df.sort_values(['distance'])[1:6]\n"
   ]
  },
  {
   "cell_type": "code",
   "execution_count": null,
   "metadata": {
    "collapsed": true
   },
   "outputs": [],
   "source": [
    "def recommendTea(input_string):\n",
    "    input_tea = data.loc[data['nom']==input_string]\n",
    "    cluster_the = input_tea.cluster.values[0]\n",
    "    new_df = data.loc[data['cluster']==cluster_the].copy()\n",
    "    distance_sameC = scipy.spatial.distance.cdist(new_df.iloc[:,4:10], input_tea.iloc[:,4:10], metric='euclidean')\n",
    "    dist_clust = distance_sameC.tolist()\n",
    "    new_df['distance'] = dist_clust\n",
    "    result = new_df.sort_values(['distance'])[1:6].copy()\n",
    "    resultat = result[['nom','variete','pays']]\n",
    "    print('Les thés recommandés pour vous sont : ')\n",
    "    return resultat\n",
    "    \n",
    "    "
   ]
  },
  {
   "cell_type": "code",
   "execution_count": null,
   "metadata": {},
   "outputs": [],
   "source": [
    "recommendTea(input_the)"
   ]
  },
  {
   "cell_type": "code",
   "execution_count": null,
   "metadata": {},
   "outputs": [],
   "source": [
    "rooibos = 'Rooibos Wupperthal biologique'\n",
    "recommendTea(rooibos)"
   ]
  },
  {
   "cell_type": "code",
   "execution_count": null,
   "metadata": {},
   "outputs": [],
   "source": [
    "ceylan = 'Ceylan New Vithanakande'\n",
    "recommendTea(ceylan)"
   ]
  },
  {
   "cell_type": "code",
   "execution_count": null,
   "metadata": {
    "collapsed": true
   },
   "outputs": [],
   "source": []
  }
 ],
 "metadata": {
  "kernelspec": {
   "display_name": "Python 3",
   "language": "python",
   "name": "python3"
  },
  "language_info": {
   "codemirror_mode": {
    "name": "ipython",
    "version": 3
   },
   "file_extension": ".py",
   "mimetype": "text/x-python",
   "name": "python",
   "nbconvert_exporter": "python",
   "pygments_lexer": "ipython3",
   "version": "3.6.2"
  }
 },
 "nbformat": 4,
 "nbformat_minor": 2
}
